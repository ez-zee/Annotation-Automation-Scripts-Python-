{
  "nbformat": 4,
  "nbformat_minor": 0,
  "metadata": {
    "colab": {
      "provenance": [],
      "authorship_tag": "ABX9TyPqUArPWe9E+gR0RA2ULLDs",
      "include_colab_link": true
    },
    "kernelspec": {
      "name": "python3",
      "display_name": "Python 3"
    },
    "language_info": {
      "name": "python"
    }
  },
  "cells": [
    {
      "cell_type": "markdown",
      "metadata": {
        "id": "view-in-github",
        "colab_type": "text"
      },
      "source": [
        "<a href=\"https://colab.research.google.com/github/ez-zee/Annotation-Automation-Scripts-Python-/blob/main/track_progress_automation.ipynb\" target=\"_parent\"><img src=\"https://colab.research.google.com/assets/colab-badge.svg\" alt=\"Open In Colab\"/></a>"
      ]
    },
    {
      "cell_type": "code",
      "execution_count": null,
      "metadata": {
        "id": "f14TnPAHUx_J"
      },
      "outputs": [],
      "source": [
        "import os\n",
        "from cvat_sdk import make_client\n",
        "from cvat_sdk.api_client import Configuration\n",
        "from tabulate import tabulate\n",
        "\n",
        "# Настройки\n",
        "CVAT_HOST = \"http://localhost:8080\"\n",
        "CVAT_USERNAME = \"Azat\"\n",
        "CVAT_PASSWORD = \"********\"\n",
        "\n",
        "def track_jobs_progress():\n",
        "    config = Configuration(host=CVAT_HOST, username=CVAT_USERNAME, password=CVAT_PASSWORD)\n",
        "\n",
        "    with make_client(config) as client:\n",
        "        print(\"[INFO] Получаем список заданий...\")\n",
        "\n",
        "        tasks = client.tasks_api.list().results\n",
        "        progress_table = []\n",
        "\n",
        "        for task in tasks:\n",
        "            jobs = client.tasks_api.list_jobs(task_id=task.id).results\n",
        "\n",
        "            for job in jobs:\n",
        "                job_id = job.id\n",
        "                job_status = job.status.value\n",
        "                assignee = job.assignee.username if job.assignee else \"Не назначен\"\n",
        "                progress = job.progress\n",
        "\n",
        "                progress_table.append([\n",
        "                    task.id,\n",
        "                    task.name,\n",
        "                    job_id,\n",
        "                    assignee,\n",
        "                    job_status,\n",
        "                    f\"{progress:.1f} %\"\n",
        "                ])\n",
        "\n",
        "        print(\"\\n📊 Прогресс по заданиям и job'ам:\\n\")\n",
        "        headers = [\"Task ID\", \"Task Name\", \"Job ID\", \"Assignee\", \"Status\", \"Progress\"]\n",
        "        print(tabulate(progress_table, headers=headers, tablefmt=\"fancy_grid\"))\n",
        "\n",
        "if __name__ == \"__main__\":\n",
        "    track_jobs_progress()\n"
      ]
    }
  ]
}