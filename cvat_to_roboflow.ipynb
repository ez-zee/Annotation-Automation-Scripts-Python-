{
  "nbformat": 4,
  "nbformat_minor": 0,
  "metadata": {
    "colab": {
      "provenance": [],
      "authorship_tag": "ABX9TyM5Wys4IenqxZSTAFNYhaGL",
      "include_colab_link": true
    },
    "kernelspec": {
      "name": "python3",
      "display_name": "Python 3"
    },
    "language_info": {
      "name": "python"
    }
  },
  "cells": [
    {
      "cell_type": "markdown",
      "metadata": {
        "id": "view-in-github",
        "colab_type": "text"
      },
      "source": [
        "<a href=\"https://colab.research.google.com/github/ez-zee/Annotation-Automation-Scripts-Python-/blob/main/cvat_to_roboflow.ipynb\" target=\"_parent\"><img src=\"https://colab.research.google.com/assets/colab-badge.svg\" alt=\"Open In Colab\"/></a>"
      ]
    },
    {
      "cell_type": "code",
      "execution_count": null,
      "metadata": {
        "id": "pLVFrvu5LokH"
      },
      "outputs": [],
      "source": [
        "import os\n",
        "import cv2\n",
        "from roboflow import Roboflow\n",
        "\n",
        "# === Параметры пользователя ===\n",
        "VIDEO_DIR = r\"C:\\Users\\felhasznaló\\Desktop\\CV datasets\\VIDEO ANNOTATION\"\n",
        "EXTRACTED_FRAMES_DIR = r\"C:\\extracted_videoframes\"\n",
        "FRAME_INTERVAL = 10\n",
        "\n",
        "ROBOFLOW_API_KEY = \"Dpg4wVjxAMcUGN4QlzRY\"\n",
        "WORKSPACE_NAME = \"cvat-vifgc\"\n",
        "PROJECT_NAME = \"football-players-dvgnm\"\n",
        "\n",
        "# === Этап 1: Извлечение каждого 10-го кадра из всех видео ===\n",
        "def extract_frames():\n",
        "    os.makedirs(EXTRACTED_FRAMES_DIR, exist_ok=True)\n",
        "    print(f\"[INFO] Кадры будут сохранены в: {EXTRACTED_FRAMES_DIR}\")\n",
        "\n",
        "    video_files = [f for f in os.listdir(VIDEO_DIR) if f.lower().endswith(\".mp4\")]\n",
        "    total_saved = 0\n",
        "\n",
        "    for video_file in video_files:\n",
        "        video_path = os.path.join(VIDEO_DIR, video_file)\n",
        "        cap = cv2.VideoCapture(video_path)\n",
        "        if not cap.isOpened():\n",
        "            print(f\"[ERROR] Не удалось открыть видео: {video_path}\")\n",
        "            continue\n",
        "        else:\n",
        "            print(f\"[DEBUG] Открыто: {video_path}\")\n",
        "\n",
        "        if not cap.isOpened():\n",
        "            print(f\"[WARN] Не удалось открыть {video_file}\")\n",
        "            continue\n",
        "\n",
        "        frame_count = 0\n",
        "        saved_count = 0\n",
        "        base_name = os.path.splitext(video_file)[0]\n",
        "\n",
        "        while True:\n",
        "            ret, frame = cap.read()\n",
        "            if not ret:\n",
        "                break\n",
        "\n",
        "            if frame_count % FRAME_INTERVAL == 0:\n",
        "                filename = f\"{base_name}_frame_{frame_count}.jpg\"\n",
        "                save_path = os.path.join(EXTRACTED_FRAMES_DIR, filename)\n",
        "                success = cv2.imwrite(save_path, frame)\n",
        "                if not success:\n",
        "                    print(f\"[ERROR] Не удалось сохранить кадр: {save_path}\")\n",
        "                else:\n",
        "                    saved_count += 1\n",
        "\n",
        "            frame_count += 1\n",
        "\n",
        "        cap.release()\n",
        "        print(f\"[OK] {video_file}: сохранено {saved_count} кадров\")\n",
        "        total_saved += saved_count\n",
        "\n",
        "    print(f\"[DONE] Всего сохранено кадров: {total_saved}\")\n",
        "\n",
        "# === Этап 2: Загрузка кадров в Roboflow ===\n",
        "def upload_to_roboflow():\n",
        "    from glob import glob\n",
        "\n",
        "    print(\"loading Roboflow workspace...\")\n",
        "    rf = Roboflow(api_key=ROBOFLOW_API_KEY)\n",
        "    workspace = rf.workspace(WORKSPACE_NAME)\n",
        "    print(\"loading Roboflow project...\")\n",
        "    project = workspace.project(PROJECT_NAME)\n",
        "\n",
        "    image_paths = glob(os.path.join(EXTRACTED_FRAMES_DIR, \"*.jpg\"))\n",
        "    print(f\"[INFO] Загружаем {len(image_paths)} изображений в Roboflow...\")\n",
        "\n",
        "    for i, image_path in enumerate(image_paths, 1):\n",
        "        try:\n",
        "            project.upload(image_path)\n",
        "            print(f\"[{i}/{len(image_paths)}] Загружено: {os.path.basename(image_path)}\")\n",
        "        except Exception as e:\n",
        "            print(f\"[ОШИБКА] {image_path}: {e}\")\n",
        "\n",
        "    print(\"[DONE] Все изображения загружены.\")\n",
        "\n",
        "# === Запуск ===\n",
        "if __name__ == \"__main__\":\n",
        "    extract_frames()\n",
        "    upload_to_roboflow()"
      ]
    }
  ]
}