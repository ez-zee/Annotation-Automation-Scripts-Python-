{
  "nbformat": 4,
  "nbformat_minor": 0,
  "metadata": {
    "colab": {
      "provenance": [],
      "authorship_tag": "ABX9TyOgw7pARRhcT/R5rzRVF1hz",
      "include_colab_link": true
    },
    "kernelspec": {
      "name": "python3",
      "display_name": "Python 3"
    },
    "language_info": {
      "name": "python"
    }
  },
  "cells": [
    {
      "cell_type": "markdown",
      "metadata": {
        "id": "view-in-github",
        "colab_type": "text"
      },
      "source": [
        "<a href=\"https://colab.research.google.com/github/ez-zee/Chatbots-Python/blob/main/Create_video_project.ipynb\" target=\"_parent\"><img src=\"https://colab.research.google.com/assets/colab-badge.svg\" alt=\"Open In Colab\"/></a>"
      ]
    },
    {
      "cell_type": "code",
      "execution_count": null,
      "metadata": {
        "id": "8X3naZxwGB2G"
      },
      "outputs": [],
      "source": [
        "from cvat_sdk.api_client import Configuration, ApiClient, models\n",
        "import glob\n",
        "import os\n",
        "\n",
        "# Путь к твоим видео\n",
        "video_dir = r\"C:\\Users\\felhasznaló\\Desktop\\CV datasets\\VIDEO ANNOTATION\"\n",
        "video_files = glob.glob(os.path.join(video_dir, \"*.mp4\"))\n",
        "\n",
        "# Проверка, что нашли видео\n",
        "if not video_files:\n",
        "    raise FileNotFoundError(\"Видео не найдены в указанной директории.\")\n",
        "\n",
        "# Конфигурация подключения к CVAT\n",
        "configuration = Configuration(\n",
        "    host=\"http://localhost:8080\",  # Обязательно: укажи порт, если ты его включал\n",
        "    username=\"Azat\",      # 🔁 Заменить на логин от CVAT\n",
        "    password=\"********\",      # 🔁 Заменить на пароль\n",
        ")\n",
        "\n",
        "with ApiClient(configuration) as client:\n",
        "    print(\"Создаём проект...\")\n",
        "    project_spec = models.ProjectWriteRequest(\n",
        "        name=\"Разметка видео Roboflow\",\n",
        "        labels=[\n",
        "            models.PatchedLabelRequest(name=\"object\")\n",
        "        ]\n",
        "    )\n",
        "    project, _ = client.projects_api.create(project_spec)\n",
        "    print(f\"✅ Проект создан: ID {project.id}\")\n",
        "\n",
        "    print(\"Создаём задание...\")\n",
        "    task_spec = models.TaskWriteRequest(\n",
        "        name=\"Задание: 2 видео для авторазметки\",\n",
        "        project_id=project.id,\n",
        "    )\n",
        "    task, _ = client.tasks_api.create(task_spec)\n",
        "    print(f\"✅ Задание создано: ID {task.id}\")\n",
        "\n",
        "    print(\"Загружаем видео...\")\n",
        "    with_files = [open(file, 'rb') for file in video_files]\n",
        "\n",
        "    task_data = models.DataRequest(\n",
        "        client_files=with_files,\n",
        "        image_quality=70,\n",
        "        use_zip_chunks=False,\n",
        "        use_cache=False,\n",
        "    )\n",
        "\n",
        "    result, _ = client.tasks_api.create_data(\n",
        "        task.id,\n",
        "        data_request=task_data,\n",
        "        _content_type=\"multipart/form-data\"\n",
        "    )\n",
        "\n",
        "    for f in with_files:\n",
        "        f.close()\n",
        "\n",
        "    print(\"✅ Видео загружены в задание и разбиты на кадры.\")\n"
      ]
    }
  ]
}