{
  "nbformat": 4,
  "nbformat_minor": 0,
  "metadata": {
    "colab": {
      "provenance": [],
      "authorship_tag": "ABX9TyPIPv6zObBLGBNPIg8mFdZx",
      "include_colab_link": true
    },
    "kernelspec": {
      "name": "python3",
      "display_name": "Python 3"
    },
    "language_info": {
      "name": "python"
    }
  },
  "cells": [
    {
      "cell_type": "markdown",
      "metadata": {
        "id": "view-in-github",
        "colab_type": "text"
      },
      "source": [
        "<a href=\"https://colab.research.google.com/github/ez-zee/Chatbots-Python/blob/main/Simple_ChatBot.ipynb\" target=\"_parent\"><img src=\"https://colab.research.google.com/assets/colab-badge.svg\" alt=\"Open In Colab\"/></a>"
      ]
    },
    {
      "cell_type": "code",
      "source": [
        "#LOOPS approach\n",
        "\n",
        "import time\n",
        "import random\n",
        "\n",
        "continue_convo = True\n",
        "\n",
        "#name\n",
        "name = input(\"Hello, what is your name?\")\n",
        "if name.lower() in ['bye', 'goodbye']:\n",
        "    print(\"Goodbye!\")\n",
        "    continue_convo = False\n",
        "else:\n",
        "    time.sleep(2)\n",
        "    print('Hello, ' + name.capitalize())\n",
        "\n",
        "#mood\n",
        "if continue_convo:\n",
        "    feeling = input('How are you today?')\n",
        "    if feeling.lower() in ['bye', 'goodbye']:\n",
        "        print(\"Goodbye!\")\n",
        "        continue_convo = False\n",
        "    else:\n",
        "        time.sleep(2)\n",
        "        if 'good' or 'fine' or 'ok' or 'okay' in feeling.lower():\n",
        "            print(\"I'm glad to hear that!\")\n",
        "        else:\n",
        "            print(\"I'm sorry to hear that!\")\n",
        "        time.sleep(2)\n",
        "\n",
        "#colour\n",
        "if continue_convo:\n",
        "    favColour = input('What is your favorite colour?')\n",
        "    if favColour.lower() in ['bye', 'goodbye']:\n",
        "        print(\"Goodbye!\")\n",
        "        continue_convo = False\n",
        "    else:\n",
        "        colours = [\"Red\", \"Green\", \"Blue\", \"Yellow\", \"White\", \"Black\"]\n",
        "        time.sleep(2)\n",
        "        print(f\"Oh, it is {favColour.capitalize()}! My favourite colour is \" + random.choice(colours))"
      ],
      "metadata": {
        "colab": {
          "base_uri": "https://localhost:8080/"
        },
        "id": "SQGPwY6XBfNJ",
        "outputId": "c73cfe60-c561-4f54-a8ea-f4e75df8a58e"
      },
      "execution_count": 15,
      "outputs": [
        {
          "output_type": "stream",
          "name": "stdout",
          "text": [
            "Hello, what is your name?bye\n",
            "Goodbye!\n"
          ]
        }
      ]
    },
    {
      "cell_type": "markdown",
      "metadata": {
        "id": "1fb0f2e3"
      },
      "source": [
        "Here's an example of how you can structure the conversation using functions, where each function returns `False` if the user wants to exit and `True` to continue."
      ]
    },
    {
      "cell_type": "code",
      "metadata": {
        "id": "26816295"
      },
      "source": [
        "#FUNCTIONS approach\n",
        "\n",
        "import time\n",
        "import random\n",
        "\n",
        "def ask_name():\n",
        "    name = input(\"Hello, what is your name?\")\n",
        "    if name.lower() in ['bye', 'goodbye']:\n",
        "        print(\"Goodbye!\")\n",
        "        return False  # Indicate exit\n",
        "    else:\n",
        "        time.sleep(2)\n",
        "        print('Hello, ' + name.capitalize())\n",
        "        return True   # Indicate continue\n",
        "\n",
        "def ask_mood():\n",
        "    feeling = input('How are you today?')\n",
        "    if feeling.lower() in ['bye', 'goodbye']:\n",
        "        print(\"Goodbye!\")\n",
        "        return False # Indicate exit\n",
        "    else:\n",
        "        time.sleep(2)\n",
        "        if 'good' or 'fine' or 'ok' or 'okay' in feeling.lower():\n",
        "            print(\"I'm glad to hear that!\")\n",
        "        else:\n",
        "            print(\"I'm sorry to hear that!\")\n",
        "        time.sleep(2)\n",
        "        return True # Indicate continue\n",
        "\n",
        "def ask_color():\n",
        "    favColour = input('What is your favorite colour?')\n",
        "    if favColour.lower() in ['bye', 'goodbye']:\n",
        "        print(\"Goodbye!\")\n",
        "        return False # Indicate exit\n",
        "    else:\n",
        "        colours = [\"Red\", \"Green\", \"Blue\", \"Yellow\", \"White\", \"Black\"]\n",
        "        time.sleep(2)\n",
        "        print(f\"Oh, it is {favColour.capitalize()}! My favourite colour is \" + random.choice(colours))\n",
        "        return True # Indicate continue\n",
        "\n",
        "# Main conversation flow\n",
        "if ask_name():\n",
        "    if ask_mood():\n",
        "        ask_color() # No need to check return here if it's the last step, or chain more if needed"
      ],
      "execution_count": null,
      "outputs": []
    },
    {
      "cell_type": "markdown",
      "metadata": {
        "id": "91cfe16c"
      },
      "source": [
        "**Concept of a State Machine for Conversations**\n",
        "\n",
        "A state machine for a conversation has:\n",
        "\n",
        "1.  **States**: These are different points or stages in the conversation (e.g., \"ASK_NAME\", \"ASK_MOOD\", \"ASK_COLOR\", \"END\").\n",
        "2.  **Transitions**: These are the rules that determine how the conversation moves from one state to another. Transitions are usually triggered by user input.\n",
        "3.  **Actions**: What the program does in each state (e.g., ask a question, print a message).\n",
        "\n",
        "**Simplified Code Example**\n",
        "\n",
        "This example uses a variable `current_state` to keep track of where the conversation is. The `while` loop continues as long as the state is not \"END\"."
      ]
    },
    {
      "cell_type": "code",
      "metadata": {
        "colab": {
          "base_uri": "https://localhost:8080/"
        },
        "id": "4d5a447b",
        "outputId": "aa9db1c5-467d-4751-b0fb-5862eb52bd81"
      },
      "source": [
        "# STATE MACHINE approach\n",
        "\n",
        "import time\n",
        "import random\n",
        "\n",
        "# Define the states of the conversation\n",
        "STATE_ASK_NAME = \"ask_name\"\n",
        "STATE_ASK_MOOD = \"ask_mood\"\n",
        "STATE_ASK_COLOR = \"ask_color\"\n",
        "STATE_END = \"end\"\n",
        "\n",
        "# Initial state\n",
        "current_state = STATE_ASK_NAME\n",
        "\n",
        "while current_state != STATE_END:\n",
        "    if current_state == STATE_ASK_NAME:\n",
        "        name = input(\"Hello, what is your name?\")\n",
        "        if name.lower() in ['bye', 'goodbye']:\n",
        "            print(\"Goodbye!\")\n",
        "            current_state = STATE_END\n",
        "        else:\n",
        "            time.sleep(2)\n",
        "            print('Hello, ' + name.capitalize())\n",
        "            current_state = STATE_ASK_MOOD # Transition to the next state\n",
        "\n",
        "    elif current_state == STATE_ASK_MOOD:\n",
        "        feeling = input('How are you today?')\n",
        "        if feeling.lower() in ['bye', 'goodbye']:\n",
        "            print(\"Goodbye!\")\n",
        "            current_state = STATE_END\n",
        "        else:\n",
        "            time.sleep(2)\n",
        "            if 'good' or 'fine' or 'ok' or 'okay' in feeling.lower():\n",
        "                print(\"I'm glad to hear that!\")\n",
        "            else:\n",
        "                print(\"I'm sorry to hear that!\")\n",
        "            time.sleep(2)\n",
        "            current_state = STATE_ASK_COLOR # Transition to the next state\n",
        "\n",
        "    elif current_state == STATE_ASK_COLOR:\n",
        "        favColour = input('What is your favorite colour?')\n",
        "        if favColour.lower() in ['bye', 'goodbye']:\n",
        "            print(\"Goodbye!\")\n",
        "            current_state = STATE_END\n",
        "        else:\n",
        "            colours = [\"Red\", \"Green\", \"Blue\", \"Yellow\", \"White\", \"Black\"]\n",
        "            time.sleep(2)\n",
        "            print(f\"Oh, it is {favColour.capitalize()}! My favourite colour is \" + random.choice(colours))\n",
        "            current_state = STATE_END # Conversation ends after asking color\n",
        "\n",
        "# The loop finishes when current_state is STATE_END"
      ],
      "execution_count": 16,
      "outputs": [
        {
          "output_type": "stream",
          "name": "stdout",
          "text": [
            "Hello, what is your name?zee\n",
            "Hello, Zee\n",
            "How are you today?ok\n",
            "I'm glad to hear that!\n",
            "What is your favorite colour?red\n",
            "Oh, it is Red! My favourite colour is Blue\n"
          ]
        }
      ]
    }
  ]
}