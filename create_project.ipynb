{
  "nbformat": 4,
  "nbformat_minor": 0,
  "metadata": {
    "colab": {
      "provenance": [],
      "authorship_tag": "ABX9TyNHxpwdWZKqso9Up/RmMGO5",
      "include_colab_link": true
    },
    "kernelspec": {
      "name": "python3",
      "display_name": "Python 3"
    },
    "language_info": {
      "name": "python"
    }
  },
  "cells": [
    {
      "cell_type": "markdown",
      "metadata": {
        "id": "view-in-github",
        "colab_type": "text"
      },
      "source": [
        "<a href=\"https://colab.research.google.com/github/ez-zee/Chatbots-Python/blob/main/create_project.ipynb\" target=\"_parent\"><img src=\"https://colab.research.google.com/assets/colab-badge.svg\" alt=\"Open In Colab\"/></a>"
      ]
    },
    {
      "cell_type": "code",
      "execution_count": null,
      "metadata": {
        "id": "53REciB79Cth"
      },
      "outputs": [],
      "source": [
        "import os\n",
        "from cvat_sdk.api_client import Configuration, ApiClient, models\n",
        "\n",
        "# === Настройки подключения ===\n",
        "configuration = Configuration(\n",
        "    host=\"http://localhost:8080\",\n",
        "    username=\"Azat\",            # Твой логин CVAT\n",
        "    password=\"********\"      # Твой пароль CVAT\n",
        ")\n",
        "\n",
        "# === Путь к папке с изображениями ===\n",
        "image_folder = r\"C:\\Users\\felhasznaló\\Desktop\\CV datasets\\Sports-celebrity IMAGES\\FOR ANNOTATION\"\n",
        "\n",
        "# Получаем список изображений\n",
        "image_paths = [\n",
        "    open(os.path.join(image_folder, fname), 'rb')\n",
        "    for fname in os.listdir(image_folder)\n",
        "    if fname.lower().endswith(('.jpg', '.jpeg', '.png'))\n",
        "]\n",
        "\n",
        "# === Создание проекта и задания ===\n",
        "with ApiClient(configuration) as client:\n",
        "    print(\"Создаём проект...\")\n",
        "    project_spec = models.ProjectWriteRequest(\n",
        "        name=\"Ronaldo_Annotation_Project\",\n",
        "        labels=[\n",
        "            {\"name\": \"player\"},\n",
        "            {\"name\": \"ball\"},\n",
        "            {\"name\": \"trophy\"},\n",
        "            {\"name\": \"medal\"}\n",
        "        ]\n",
        "    )\n",
        "    project, _ = client.projects_api.create(project_spec)\n",
        "    print(f\"✅ Проект создан: ID {project.id}\")\n",
        "\n",
        "    print(\"Создаём задание...\")\n",
        "    task_spec = models.TaskWriteRequest(\n",
        "        name=\"Ronaldo_Task\",\n",
        "        project_id=project.id,\n",
        "        #labels=project_spec.labels\n",
        "    )\n",
        "    task, _ = client.tasks_api.create(task_spec)\n",
        "    print(f\"✅ Задание создано: ID {task.id}\")\n",
        "\n",
        "    print(\"Загружаем изображения...\")\n",
        "    task_data = models.DataRequest(\n",
        "        image_quality=100,\n",
        "        client_files=image_paths\n",
        "    )\n",
        "\n",
        "    result, _ = client.tasks_api.create_data(\n",
        "        task.id,\n",
        "        data_request=task_data,\n",
        "        _content_type=\"multipart/form-data\"\n",
        "    )\n",
        "    print(\"✅ Изображения отправлены. CVAT обрабатывает файлы...\") #проверка статуса"
      ]
    }
  ]
}